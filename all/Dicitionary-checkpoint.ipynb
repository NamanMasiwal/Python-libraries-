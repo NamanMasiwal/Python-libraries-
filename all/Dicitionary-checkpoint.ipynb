{
 "cells": [
  {
   "cell_type": "markdown",
   "id": "8e2d7aa1",
   "metadata": {},
   "source": [
    "# Creating a dictinary"
   ]
  },
  {
   "cell_type": "code",
   "execution_count": 3,
   "id": "7ea8b7f5",
   "metadata": {},
   "outputs": [],
   "source": [
    "a = {\n",
    "    \"Id\":\"123ab\",\n",
    "    \"colour\":\"Black\",\n",
    "    \"year\":1964\n",
    "}"
   ]
  },
  {
   "cell_type": "code",
   "execution_count": 5,
   "id": "66a2111d",
   "metadata": {},
   "outputs": [
    {
     "name": "stdout",
     "output_type": "stream",
     "text": [
      "{'Id': '123ab', 'colour': 'Black', 'year': 1964}\n",
      "<class 'dict'>\n"
     ]
    }
   ],
   "source": [
    "print(a)\n",
    "print(type(a))"
   ]
  },
  {
   "cell_type": "code",
   "execution_count": 6,
   "id": "59f3e1f0",
   "metadata": {},
   "outputs": [],
   "source": [
    "a = {\n",
    "    \"Id\":\"123ab\",\n",
    "    \"colour\":\"Black\",\n",
    "    \"year\":2000\n",
    "}"
   ]
  },
  {
   "cell_type": "code",
   "execution_count": 8,
   "id": "af97ab34",
   "metadata": {},
   "outputs": [
    {
     "name": "stdout",
     "output_type": "stream",
     "text": [
      "Black\n"
     ]
    }
   ],
   "source": [
    "print(a[\"colour\"])"
   ]
  },
  {
   "cell_type": "markdown",
   "id": "d13c01d1",
   "metadata": {},
   "source": [
    "# Dictinoary length"
   ]
  },
  {
   "cell_type": "code",
   "execution_count": 9,
   "id": "d622ad34",
   "metadata": {},
   "outputs": [
    {
     "name": "stdout",
     "output_type": "stream",
     "text": [
      "{'Id': '123ab', 'colour': 'red', 'year': 2023, 'a': [1, 2, 3, 4, 5, 6, 'Naman'], 'b': (2, 43, 3, 4, 5, 6), 'c': False}\n"
     ]
    }
   ],
   "source": [
    "dict = {\n",
    "    \"Id\":\"123ab\",\n",
    "    \"colour\":\"red\",\n",
    "    \"year\":2023,\n",
    "    \"a\":[1,2,3,4,5,6,\"Naman\"],\n",
    "    \"b\":(2,43 ,3, 4, 5,6),\n",
    "    \"c\":False\n",
    "    \n",
    "}\n",
    "print(dict)"
   ]
  },
  {
   "cell_type": "code",
   "execution_count": 20,
   "id": "e84435de",
   "metadata": {},
   "outputs": [
    {
     "name": "stdout",
     "output_type": "stream",
     "text": [
      "pragya\n",
      "<class 'dict'>\n"
     ]
    }
   ],
   "source": [
    "n ={\"name\" :\"pragya\" , \"age\" : \"21\" , \"countr\" :\"India\"}\n",
    "print(n['name'])\n",
    "print(type(n))"
   ]
  },
  {
   "cell_type": "code",
   "execution_count": 22,
   "id": "ce3fb51e",
   "metadata": {},
   "outputs": [
    {
     "name": "stdout",
     "output_type": "stream",
     "text": [
      "pragya\n"
     ]
    }
   ],
   "source": [
    "b ={\"name\" :\"pragya\" , \"age\" : \"21\" , \"countr\" :\"India\"}\n",
    "print(b.get(\"name\"))\n"
   ]
  },
  {
   "cell_type": "code",
   "execution_count": 1,
   "id": "a5aef556",
   "metadata": {},
   "outputs": [],
   "source": [
    "a = {\"name\" :\"pragya\" , \"age\" : \"21\" , \"countr\" :\"India\"}"
   ]
  },
  {
   "cell_type": "code",
   "execution_count": 3,
   "id": "675f8a15",
   "metadata": {},
   "outputs": [],
   "source": [
    "y = a.values()"
   ]
  },
  {
   "cell_type": "code",
   "execution_count": 4,
   "id": "4e83175a",
   "metadata": {},
   "outputs": [
    {
     "data": {
      "text/plain": [
       "dict_values(['pragya', '21', 'India'])"
      ]
     },
     "execution_count": 4,
     "metadata": {},
     "output_type": "execute_result"
    }
   ],
   "source": [
    "y"
   ]
  },
  {
   "cell_type": "code",
   "execution_count": 5,
   "id": "cd72fc58",
   "metadata": {},
   "outputs": [
    {
     "name": "stdout",
     "output_type": "stream",
     "text": [
      "{'name': 'naman', 'age': 28, 'country': 'india'}\n"
     ]
    }
   ],
   "source": [
    "a = {\"name\" : \"naman\",\n",
    "     \"age\" : \"27\",\n",
    "     \"country\": \"india\" }\n",
    "a[\"age\"] = 28\n",
    "print(a)"
   ]
  },
  {
   "cell_type": "code",
   "execution_count": 7,
   "id": "105d4a44",
   "metadata": {},
   "outputs": [
    {
     "name": "stdout",
     "output_type": "stream",
     "text": [
      "{'name': 'naman', 'age': '27', 'country': 'india', 'gender': 'female', 'mail id': 'naman@gmail.com'}\n"
     ]
    }
   ],
   "source": [
    "a = {\"name\" : \"naman\",\n",
    "     \"age\" : \"27\",\n",
    "     \"country\": \"india\", \"gender\":\"female\" }\n",
    "a.update({\"mail id\" : \"naman@gmail.com\"})\n",
    "print(a)"
   ]
  },
  {
   "cell_type": "code",
   "execution_count": null,
   "id": "20bdc319",
   "metadata": {},
   "outputs": [],
   "source": []
  }
 ],
 "metadata": {
  "kernelspec": {
   "display_name": "Python 3 (ipykernel)",
   "language": "python",
   "name": "python3"
  },
  "language_info": {
   "codemirror_mode": {
    "name": "ipython",
    "version": 3
   },
   "file_extension": ".py",
   "mimetype": "text/x-python",
   "name": "python",
   "nbconvert_exporter": "python",
   "pygments_lexer": "ipython3",
   "version": "3.11.5"
  }
 },
 "nbformat": 4,
 "nbformat_minor": 5
}
