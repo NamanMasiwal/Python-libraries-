{
 "cells": [
  {
   "cell_type": "markdown",
   "id": "f27e4181",
   "metadata": {},
   "source": [
    "# Numpy part 2\n",
    "\n",
    "# Day 13\n",
    "\n",
    "# Slicing of numpy array"
   ]
  },
  {
   "cell_type": "code",
   "execution_count": 1,
   "id": "bfff8bfd",
   "metadata": {},
   "outputs": [],
   "source": [
    "import numpy as np"
   ]
  },
  {
   "cell_type": "markdown",
   "id": "c0229c04",
   "metadata": {},
   "source": [
    "# 1-D Array Sclicing"
   ]
  },
  {
   "cell_type": "code",
   "execution_count": 4,
   "id": "6e5517b6",
   "metadata": {},
   "outputs": [
    {
     "name": "stdout",
     "output_type": "stream",
     "text": [
      "[2 3 4]\n",
      "[1 3 5]\n",
      "[]\n"
     ]
    }
   ],
   "source": [
    "a = np.array([1,2,3,4,5])\n",
    "print(a[1:4])\n",
    "print(a[::2])\n",
    "print(a[3:1])"
   ]
  },
  {
   "cell_type": "markdown",
   "id": "d3826353",
   "metadata": {},
   "source": [
    "# 2-D Array Sclicing"
   ]
  },
  {
   "cell_type": "code",
   "execution_count": 9,
   "id": "de55b8ef",
   "metadata": {},
   "outputs": [
    {
     "name": "stdout",
     "output_type": "stream",
     "text": [
      "[50 60 70 80]\n",
      "[20 30 40]\n",
      "[50 60 70 80]\n",
      "[10 20 30 40]\n"
     ]
    }
   ],
   "source": [
    "a = np.array([[10,20,30,40] , [50,60,70,80]])\n",
    "print(a[1,0:4])\n",
    "print(a[0,1:4])\n",
    "print(a[1,::])\n",
    "print(a[0,::])"
   ]
  },
  {
   "cell_type": "markdown",
   "id": "5e406890",
   "metadata": {},
   "source": [
    "# Checking the data type of an array"
   ]
  },
  {
   "cell_type": "code",
   "execution_count": null,
   "id": "d1e2996a",
   "metadata": {},
   "outputs": [],
   "source": []
  }
 ],
 "metadata": {
  "kernelspec": {
   "display_name": "Python 3 (ipykernel)",
   "language": "python",
   "name": "python3"
  },
  "language_info": {
   "codemirror_mode": {
    "name": "ipython",
    "version": 3
   },
   "file_extension": ".py",
   "mimetype": "text/x-python",
   "name": "python",
   "nbconvert_exporter": "python",
   "pygments_lexer": "ipython3",
   "version": "3.11.5"
  }
 },
 "nbformat": 4,
 "nbformat_minor": 5
}
