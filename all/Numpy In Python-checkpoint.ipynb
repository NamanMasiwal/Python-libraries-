{
 "cells": [
  {
   "cell_type": "markdown",
   "id": "a94c61c0",
   "metadata": {},
   "source": [
    "# Numerical Python"
   ]
  },
  {
   "cell_type": "raw",
   "id": "b1433853",
   "metadata": {},
   "source": [
    "Data Type in Numpy \n",
    "Numpy has some extra data type, and refer to data type with one character, like i for intergers,\n",
    "\n",
    "\n",
    "i - integer\n",
    "b - boolean\n",
    "u - unsigned integer\n",
    "f - float\n",
    "c - complex float\n",
    "m - timedelta\n",
    "M - datetime\n",
    "O - object\n",
    "S - string\n",
    "U - unicode "
   ]
  },
  {
   "cell_type": "markdown",
   "id": "20fa84b7",
   "metadata": {},
   "source": [
    "The NumPy library contains a multidimensional array and matrix data structures"
   ]
  },
  {
   "cell_type": "code",
   "execution_count": 1,
   "id": "72187896",
   "metadata": {},
   "outputs": [],
   "source": [
    "import numpy as np"
   ]
  },
  {
   "cell_type": "code",
   "execution_count": 2,
   "id": "ea935701",
   "metadata": {},
   "outputs": [
    {
     "name": "stdout",
     "output_type": "stream",
     "text": [
      "[1 2 3 4 5]\n",
      "<class 'numpy.ndarray'>\n"
     ]
    }
   ],
   "source": [
    "a = np.array([1,2,3,4,5])\n",
    "print(a)\n",
    "print(type(a))"
   ]
  },
  {
   "cell_type": "code",
   "execution_count": 3,
   "id": "10c3acc2",
   "metadata": {},
   "outputs": [
    {
     "name": "stdout",
     "output_type": "stream",
     "text": [
      "[1 2 3 4 5 6]\n",
      "<class 'numpy.ndarray'>\n"
     ]
    }
   ],
   "source": [
    "a = np.array((1,2,3,4,5,6))\n",
    "print(a)\n",
    "print(type(a))"
   ]
  },
  {
   "cell_type": "markdown",
   "id": "f40199ea",
   "metadata": {},
   "source": [
    "# Dimension in array"
   ]
  },
  {
   "cell_type": "code",
   "execution_count": 4,
   "id": "94195c82",
   "metadata": {},
   "outputs": [
    {
     "name": "stdout",
     "output_type": "stream",
     "text": [
      "20\n",
      "<class 'numpy.ndarray'>\n",
      "0\n"
     ]
    }
   ],
   "source": [
    "a = np.array(20)\n",
    "print(a)\n",
    "print(type(a))\n",
    "print(a.ndim)"
   ]
  },
  {
   "cell_type": "markdown",
   "id": "f9dd93c6",
   "metadata": {},
   "source": [
    "# 1 Dimension Array"
   ]
  },
  {
   "cell_type": "code",
   "execution_count": 5,
   "id": "36abc6aa",
   "metadata": {},
   "outputs": [
    {
     "name": "stdout",
     "output_type": "stream",
     "text": [
      "['1' '2' '3' '4' '5' 'Pragya']\n",
      "1\n"
     ]
    }
   ],
   "source": [
    "b = np.array([1,2,3,4,5,\"Pragya\"])\n",
    "print(b)\n",
    "print(b.ndim)"
   ]
  },
  {
   "cell_type": "markdown",
   "id": "ace09a83",
   "metadata": {},
   "source": [
    "# 2 Dimension Array"
   ]
  },
  {
   "cell_type": "code",
   "execution_count": 6,
   "id": "e455048e",
   "metadata": {},
   "outputs": [
    {
     "name": "stdout",
     "output_type": "stream",
     "text": [
      "[[1 2 3 4]\n",
      " [6 7 8 9]]\n",
      "2\n"
     ]
    }
   ],
   "source": [
    "c = np.array([[1,2,3,4],[6,7,8,9]])\n",
    "print(c)\n",
    "print(c.ndim)"
   ]
  },
  {
   "cell_type": "markdown",
   "id": "4c24e91e",
   "metadata": {},
   "source": [
    "# 3 d Array"
   ]
  },
  {
   "cell_type": "code",
   "execution_count": 7,
   "id": "c8431160",
   "metadata": {},
   "outputs": [
    {
     "name": "stdout",
     "output_type": "stream",
     "text": [
      "[[[1 2 3]\n",
      "  [4 5 6]\n",
      "  [7 8 9]\n",
      "  [1 2 3]]]\n",
      "3\n"
     ]
    }
   ],
   "source": [
    "arr = np.array([[[1,2,3], [4,5,6], [7,8,9], [1,2,3]]])\n",
    "print(arr)\n",
    "print(arr.ndim)\n"
   ]
  },
  {
   "cell_type": "markdown",
   "id": "facec00a",
   "metadata": {},
   "source": [
    "# 5 D Array"
   ]
  },
  {
   "cell_type": "code",
   "execution_count": 8,
   "id": "975d7c02",
   "metadata": {},
   "outputs": [
    {
     "name": "stdout",
     "output_type": "stream",
     "text": [
      "[[[[[1 2 3]\n",
      "    [4 5 6]]]]]\n",
      "5\n"
     ]
    }
   ],
   "source": [
    "a = np.array([[[[[1,2,3],[4,5,6]]]]])\n",
    "print(a)\n",
    "print(a.ndim)"
   ]
  },
  {
   "cell_type": "markdown",
   "id": "788b7265",
   "metadata": {},
   "source": [
    "# NumPy Array Indexing"
   ]
  },
  {
   "cell_type": "markdown",
   "id": "0e12e80f",
   "metadata": {},
   "source": [
    "We can access an array element by referring to its index number"
   ]
  },
  {
   "cell_type": "markdown",
   "id": "51daddb8",
   "metadata": {},
   "source": [
    "# Get the first element from the following array:"
   ]
  },
  {
   "cell_type": "code",
   "execution_count": 9,
   "id": "67a7cd6a",
   "metadata": {},
   "outputs": [
    {
     "name": "stdout",
     "output_type": "stream",
     "text": [
      "1\n"
     ]
    }
   ],
   "source": [
    "a = np.array([1,2,3,4])\n",
    "print(a[0])"
   ]
  },
  {
   "cell_type": "markdown",
   "id": "26535ea0",
   "metadata": {},
   "source": [
    "# Get third and sixth and 8th element from the following array and add them "
   ]
  },
  {
   "cell_type": "code",
   "execution_count": 10,
   "id": "4b911db4",
   "metadata": {},
   "outputs": [
    {
     "name": "stdout",
     "output_type": "stream",
     "text": [
      "the second element is 43\n",
      "the sixth element is 97\n",
      "the 8th element is 46\n",
      "sum of this element 186\n"
     ]
    }
   ],
   "source": [
    "m = np.array([41,32,43,54,68,97,68,46])\n",
    "print(\"the second element is\",m[2])\n",
    "print(\"the sixth element is\",m[5])\n",
    "print(\"the 8th element is\" ,m[7])\n",
    "print(\"sum of this element\", m[2]+m[5]+m[7])"
   ]
  },
  {
   "cell_type": "markdown",
   "id": "9bb011ea",
   "metadata": {},
   "source": [
    "# Access 2- D Array"
   ]
  },
  {
   "cell_type": "code",
   "execution_count": 11,
   "id": "81aa8597",
   "metadata": {},
   "outputs": [
    {
     "name": "stdout",
     "output_type": "stream",
     "text": [
      "20\n"
     ]
    }
   ],
   "source": [
    "arr = np.array([[10,20,30,40], [60,70,80,50]])\n",
    "print(arr[0,1])"
   ]
  },
  {
   "cell_type": "markdown",
   "id": "39efddef",
   "metadata": {},
   "source": [
    "# Access 3-D Array"
   ]
  },
  {
   "cell_type": "code",
   "execution_count": 22,
   "id": "8cdc1d6a",
   "metadata": {
    "scrolled": true
   },
   "outputs": [
    {
     "name": "stdout",
     "output_type": "stream",
     "text": [
      "80\n"
     ]
    }
   ],
   "source": [
    "arr = np.array([[[10,20,30,40], [60,70,80,50],[12,23,34,45],[19,18,17,15]]])\n",
    "print(arr[0,1,2])\n"
   ]
  },
  {
   "cell_type": "code",
   "execution_count": 29,
   "id": "59ca037d",
   "metadata": {
    "scrolled": true
   },
   "outputs": [
    {
     "ename": "SyntaxError",
     "evalue": "incomplete input (2942402818.py, line 2)",
     "output_type": "error",
     "traceback": [
      "\u001b[1;36m  Cell \u001b[1;32mIn[29], line 2\u001b[1;36m\u001b[0m\n\u001b[1;33m    print(arr[0]\u001b[0m\n\u001b[1;37m                ^\u001b[0m\n\u001b[1;31mSyntaxError\u001b[0m\u001b[1;31m:\u001b[0m incomplete input\n"
     ]
    }
   ],
   "source": [
    "arr = np.array([[[10,20,30,40], [60,70,80,50],[12,23,34,45],[19,18,17,15]]])\n",
    "print(arr[0]\n"
   ]
  },
  {
   "cell_type": "code",
   "execution_count": null,
   "id": "f6551f22",
   "metadata": {},
   "outputs": [],
   "source": []
  }
 ],
 "metadata": {
  "kernelspec": {
   "display_name": "Python 3 (ipykernel)",
   "language": "python",
   "name": "python3"
  },
  "language_info": {
   "codemirror_mode": {
    "name": "ipython",
    "version": 3
   },
   "file_extension": ".py",
   "mimetype": "text/x-python",
   "name": "python",
   "nbconvert_exporter": "python",
   "pygments_lexer": "ipython3",
   "version": "3.11.5"
  }
 },
 "nbformat": 4,
 "nbformat_minor": 5
}
