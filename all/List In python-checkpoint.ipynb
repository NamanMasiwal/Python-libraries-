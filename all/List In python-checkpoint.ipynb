{
 "cells": [
  {
   "cell_type": "markdown",
   "id": "395941e9",
   "metadata": {},
   "source": [
    "# Lists in Python"
   ]
  },
  {
   "cell_type": "markdown",
   "id": "74ea47a7",
   "metadata": {},
   "source": [
    "list are used to store multiple items in a single variable."
   ]
  },
  {
   "cell_type": "markdown",
   "id": "71937fda",
   "metadata": {},
   "source": [
    "List items are orderd, changeable, and allow duplicate values."
   ]
  },
  {
   "cell_type": "code",
   "execution_count": 1,
   "id": "57ba9be9",
   "metadata": {},
   "outputs": [
    {
     "name": "stdout",
     "output_type": "stream",
     "text": [
      "['apple', 'banana', 'cherry']\n"
     ]
    }
   ],
   "source": [
    "mylist =[\"apple\"  , \"banana\" ,\"cherry\"]\n",
    "print(mylist)"
   ]
  },
  {
   "cell_type": "code",
   "execution_count": 2,
   "id": "6e3d1506",
   "metadata": {},
   "outputs": [
    {
     "name": "stdout",
     "output_type": "stream",
     "text": [
      "['apple', 'banana', 'cherry', 'apple', 'banana', 'cherry']\n"
     ]
    }
   ],
   "source": [
    "mylist =[\"apple\"  , \"banana\" ,\"cherry\" , \"apple\"  , \"banana\" ,\"cherry\"]\n",
    "print(mylist)"
   ]
  },
  {
   "cell_type": "code",
   "execution_count": null,
   "id": "96055129",
   "metadata": {},
   "outputs": [],
   "source": []
  }
 ],
 "metadata": {
  "kernelspec": {
   "display_name": "Python 3 (ipykernel)",
   "language": "python",
   "name": "python3"
  },
  "language_info": {
   "codemirror_mode": {
    "name": "ipython",
    "version": 3
   },
   "file_extension": ".py",
   "mimetype": "text/x-python",
   "name": "python",
   "nbconvert_exporter": "python",
   "pygments_lexer": "ipython3",
   "version": "3.11.5"
  }
 },
 "nbformat": 4,
 "nbformat_minor": 5
}
