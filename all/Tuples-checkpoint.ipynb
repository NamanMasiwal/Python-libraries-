{
 "cells": [
  {
   "cell_type": "markdown",
   "id": "139cddd9",
   "metadata": {},
   "source": [
    "# Tuples in python"
   ]
  },
  {
   "cell_type": "markdown",
   "id": "a0d65021",
   "metadata": {},
   "source": [
    "# Creating a Tuple"
   ]
  },
  {
   "cell_type": "code",
   "execution_count": 1,
   "id": "b7b6b97d",
   "metadata": {},
   "outputs": [
    {
     "name": "stdout",
     "output_type": "stream",
     "text": [
      "(1, 2, 3, 4, 54, 65)\n"
     ]
    }
   ],
   "source": [
    "my_tuple =(1, 2 ,3, 4 ,54 ,65)\n",
    "print(my_tuple)"
   ]
  },
  {
   "cell_type": "markdown",
   "id": "fa6898a4",
   "metadata": {},
   "source": [
    "# Mixed Datatype"
   ]
  },
  {
   "cell_type": "code",
   "execution_count": 4,
   "id": "c3fcd543",
   "metadata": {},
   "outputs": [
    {
     "name": "stdout",
     "output_type": "stream",
     "text": [
      "(1, 'Naman', 43, 'Pragya', True, (4+5j))\n"
     ]
    }
   ],
   "source": [
    "my_tuple = (1 , \"Naman\" ,43 , \"Pragya\" , True , 4+5j)\n",
    "print(my_tuple)"
   ]
  },
  {
   "cell_type": "markdown",
   "id": "a4b0f69b",
   "metadata": {},
   "source": [
    "# Empty tuple"
   ]
  },
  {
   "cell_type": "code",
   "execution_count": 5,
   "id": "c9a45635",
   "metadata": {},
   "outputs": [
    {
     "name": "stdout",
     "output_type": "stream",
     "text": [
      "()\n"
     ]
    }
   ],
   "source": [
    "my_tuple =()\n",
    "print(my_tuple)"
   ]
  },
  {
   "cell_type": "markdown",
   "id": "4f12530e",
   "metadata": {},
   "source": [
    "# Nested tuples"
   ]
  },
  {
   "cell_type": "code",
   "execution_count": 8,
   "id": "6e17a2a1",
   "metadata": {},
   "outputs": [
    {
     "name": "stderr",
     "output_type": "stream",
     "text": [
      "<>:1: SyntaxWarning: 'str' object is not callable; perhaps you missed a comma?\n",
      "<>:1: SyntaxWarning: 'str' object is not callable; perhaps you missed a comma?\n",
      "C:\\Users\\hp\\AppData\\Local\\Temp\\ipykernel_8880\\447898259.py:1: SyntaxWarning: 'str' object is not callable; perhaps you missed a comma?\n",
      "  a =(\"data\" , [12, 32,342,43, 243, 23] ,\"Naman\" , \"pragay\" (1,21 ,32 ,32 ,432))\n"
     ]
    },
    {
     "ename": "TypeError",
     "evalue": "'str' object is not callable",
     "output_type": "error",
     "traceback": [
      "\u001b[1;31m---------------------------------------------------------------------------\u001b[0m",
      "\u001b[1;31mTypeError\u001b[0m                                 Traceback (most recent call last)",
      "Cell \u001b[1;32mIn[8], line 1\u001b[0m\n\u001b[1;32m----> 1\u001b[0m a \u001b[38;5;241m=\u001b[39m(\u001b[38;5;124m\"\u001b[39m\u001b[38;5;124mdata\u001b[39m\u001b[38;5;124m\"\u001b[39m , [\u001b[38;5;241m12\u001b[39m, \u001b[38;5;241m32\u001b[39m,\u001b[38;5;241m342\u001b[39m,\u001b[38;5;241m43\u001b[39m, \u001b[38;5;241m243\u001b[39m, \u001b[38;5;241m23\u001b[39m] ,\u001b[38;5;124m\"\u001b[39m\u001b[38;5;124mNaman\u001b[39m\u001b[38;5;124m\"\u001b[39m , \u001b[38;5;124m\"\u001b[39m\u001b[38;5;124mpragay\u001b[39m\u001b[38;5;124m\"\u001b[39m (\u001b[38;5;241m1\u001b[39m,\u001b[38;5;241m21\u001b[39m ,\u001b[38;5;241m32\u001b[39m ,\u001b[38;5;241m32\u001b[39m ,\u001b[38;5;241m432\u001b[39m))\n\u001b[0;32m      2\u001b[0m \u001b[38;5;28mprint\u001b[39m(a)\n",
      "\u001b[1;31mTypeError\u001b[0m: 'str' object is not callable"
     ]
    }
   ],
   "source": [
    "a =(\"data\" , [12, 32,342,43, 243, 23] ,\"Naman\" , \"pragay\" (1,21 ,32 ,32 ,432))\n",
    "print(a)"
   ]
  },
  {
   "cell_type": "code",
   "execution_count": null,
   "id": "ffbe8d46",
   "metadata": {},
   "outputs": [],
   "source": []
  }
 ],
 "metadata": {
  "kernelspec": {
   "display_name": "Python 3 (ipykernel)",
   "language": "python",
   "name": "python3"
  },
  "language_info": {
   "codemirror_mode": {
    "name": "ipython",
    "version": 3
   },
   "file_extension": ".py",
   "mimetype": "text/x-python",
   "name": "python",
   "nbconvert_exporter": "python",
   "pygments_lexer": "ipython3",
   "version": "3.11.5"
  }
 },
 "nbformat": 4,
 "nbformat_minor": 5
}
