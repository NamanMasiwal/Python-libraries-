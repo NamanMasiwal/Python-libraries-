{
 "cells": [
  {
   "cell_type": "markdown",
   "id": "6b7a7f18",
   "metadata": {},
   "source": [
    "# Day - 4\n"
   ]
  },
  {
   "cell_type": "markdown",
   "id": "126881c3",
   "metadata": {},
   "source": [
    "# CONTROL FLOW STATEMENTS"
   ]
  },
  {
   "cell_type": "markdown",
   "id": "5b704ac6",
   "metadata": {},
   "source": [
    "Write aprogram to calculate the percentage of astudent in the subjects maths social eng and hindi"
   ]
  },
  {
   "cell_type": "code",
   "execution_count": 7,
   "id": "de41a8d5",
   "metadata": {},
   "outputs": [
    {
     "name": "stdout",
     "output_type": "stream",
     "text": [
      "enter the name of a student59\n",
      "enter the marks scored in english58\n",
      "enter the marks scored in hindi56\n",
      "enter the marks scored in maths58\n",
      "enter the marks scored in sst56\n",
      "enter the marks scored in science70\n",
      "the percentage scored by student is  59.599999999999994\n"
     ]
    },
    {
     "ename": "NameError",
     "evalue": "name 'pritn' is not defined",
     "output_type": "error",
     "traceback": [
      "\u001b[1;31m---------------------------------------------------------------------------\u001b[0m",
      "\u001b[1;31mNameError\u001b[0m                                 Traceback (most recent call last)",
      "Cell \u001b[1;32mIn[7], line 17\u001b[0m\n\u001b[0;32m     15\u001b[0m     pritn(\u001b[38;5;124m\"\u001b[39m\u001b[38;5;124mC grade , Third Division\u001b[39m\u001b[38;5;124m\"\u001b[39m)\n\u001b[0;32m     16\u001b[0m \u001b[38;5;28;01mif\u001b[39;00m n\u001b[38;5;241m>\u001b[39m\u001b[38;5;241m=\u001b[39m\u001b[38;5;241m55\u001b[39m \u001b[38;5;129;01mand\u001b[39;00m n\u001b[38;5;241m<\u001b[39m\u001b[38;5;241m=\u001b[39m\u001b[38;5;241m65\u001b[39m:\n\u001b[1;32m---> 17\u001b[0m     pritn(\u001b[38;5;124m\"\u001b[39m\u001b[38;5;124mD grade , Pass\u001b[39m\u001b[38;5;124m\"\u001b[39m)\n",
      "\u001b[1;31mNameError\u001b[0m: name 'pritn' is not defined"
     ]
    }
   ],
   "source": [
    "x = input(\"enter the name of a student\")\n",
    "a = int(input(\"enter the marks scored in english\"))\n",
    "b = int(input(\"enter the marks scored in hindi\"))\n",
    "c = int(input(\"enter the marks scored in maths\"))\n",
    "d = int(input(\"enter the marks scored in sst\"))\n",
    "e = int(input(\"enter the marks scored in science\"))\n",
    "n = ((a+b+c+d+e)/500)*100\n",
    "print(\"the percentage scored by student is \", n)\n",
    "\n",
    "if n>=90:\n",
    "    print(\"A grade , First Divsion\")\n",
    "if n>=75 and n<=90:\n",
    "    print(\"B grade , Second Divsion\")\n",
    "if n>=65 and n<75:\n",
    "    pritn(\"C grade , Third Division\")\n",
    "if n>=55 and n<=65:\n",
    "    pritn(\"D grade\")\n",
    "    \n",
    "\n",
    "\n"
   ]
  },
  {
   "cell_type": "markdown",
   "id": "16183b9d",
   "metadata": {},
   "source": [
    "# If else statements"
   ]
  },
  {
   "cell_type": "markdown",
   "id": "2c65fa34",
   "metadata": {},
   "source": [
    "write a program to display hello if number entered by auser ia a multiple of 5 else print bye"
   ]
  },
  {
   "cell_type": "code",
   "execution_count": 9,
   "id": "a40ad967",
   "metadata": {},
   "outputs": [
    {
     "name": "stdout",
     "output_type": "stream",
     "text": [
      "enter the number13\n",
      "bye\n"
     ]
    }
   ],
   "source": [
    "a = int(input(\"enter the number\"))\n",
    "if a%5==0:\n",
    "    print(\"hello\")\n",
    "else:\n",
    "    print(\"bye\")"
   ]
  },
  {
   "cell_type": "code",
   "execution_count": 12,
   "id": "57750132",
   "metadata": {},
   "outputs": [
    {
     "name": "stdout",
     "output_type": "stream",
     "text": [
      "enter the number-2\n",
      "negative number\n"
     ]
    }
   ],
   "source": [
    "a = int(input(\"enter the number\"))\n",
    "if a>0:\n",
    "    print(\"positive number\")\n",
    "else:\n",
    "    print(\"negative number\")"
   ]
  },
  {
   "cell_type": "markdown",
   "id": "29ef2f36",
   "metadata": {},
   "source": [
    "# if - elif - else"
   ]
  },
  {
   "cell_type": "markdown",
   "id": "e72596c2",
   "metadata": {},
   "source": [
    "accept the city and pritnits monument\n",
    "Delhi - Red Fourt\n",
    "Agra - Taj mahal\n",
    "Jaipiur - Jalmahal\n",
    "Orissa - Konak Temple\n",
    "Ayodhya - Ram mandir \n",
    "Hyderabad - Charminar\n",
    "other - Record not found\n",
    "\n"
   ]
  },
  {
   "cell_type": "code",
   "execution_count": 16,
   "id": "ee5f7da0",
   "metadata": {},
   "outputs": [
    {
     "name": "stdout",
     "output_type": "stream",
     "text": [
      "enter the cityDelhi\n"
     ]
    },
    {
     "ename": "NameError",
     "evalue": "name 'Delhi' is not defined",
     "output_type": "error",
     "traceback": [
      "\u001b[1;31m---------------------------------------------------------------------------\u001b[0m",
      "\u001b[1;31mNameError\u001b[0m                                 Traceback (most recent call last)",
      "Cell \u001b[1;32mIn[16], line 2\u001b[0m\n\u001b[0;32m      1\u001b[0m city \u001b[38;5;241m=\u001b[39m \u001b[38;5;28minput\u001b[39m(\u001b[38;5;124m\"\u001b[39m\u001b[38;5;124menter the city\u001b[39m\u001b[38;5;124m\"\u001b[39m)\n\u001b[1;32m----> 2\u001b[0m \u001b[38;5;28;01mif\u001b[39;00m city \u001b[38;5;241m==\u001b[39m Delhi:\n\u001b[0;32m      3\u001b[0m     \u001b[38;5;28mprint\u001b[39m(\u001b[38;5;124m\"\u001b[39m\u001b[38;5;124mThe famous monuments in Delhi is Redfort\u001b[39m\u001b[38;5;124m\"\u001b[39m)\n\u001b[0;32m      4\u001b[0m \u001b[38;5;28;01melif\u001b[39;00m city \u001b[38;5;241m==\u001b[39m Agra:\n",
      "\u001b[1;31mNameError\u001b[0m: name 'Delhi' is not defined"
     ]
    }
   ],
   "source": [
    "city = input(\"enter the city\")\n",
    "if city == \"Delhi\":\n",
    "    print(\"The famous monuments in Delhi is Redfort\")\n",
    "elif city == \"Agra\":\n",
    "    print(\"The famous monuments in Agra is Taj Mahal\")\n",
    "elif city == \"Ayodhya\":\n",
    "    print(\"The famous monuments in Ayodhya is Ram Mandir \")\n",
    "elif city == \"Uttarakhand\":\n",
    "    print(\"The famous monuments in Uttarakhand is Kedarnath\")\n",
    "elif city == \"Orissa\":\n",
    "    print(\"The famous monuments in Orissa isKonak Temple\")\n",
    "else:\n",
    "    print(\"Record not found\")\n",
    "    \n"
   ]
  },
  {
   "cell_type": "code",
   "execution_count": null,
   "id": "0b95451e",
   "metadata": {},
   "outputs": [],
   "source": []
  }
 ],
 "metadata": {
  "kernelspec": {
   "display_name": "Python 3 (ipykernel)",
   "language": "python",
   "name": "python3"
  },
  "language_info": {
   "codemirror_mode": {
    "name": "ipython",
    "version": 3
   },
   "file_extension": ".py",
   "mimetype": "text/x-python",
   "name": "python",
   "nbconvert_exporter": "python",
   "pygments_lexer": "ipython3",
   "version": "3.11.5"
  }
 },
 "nbformat": 4,
 "nbformat_minor": 5
}
